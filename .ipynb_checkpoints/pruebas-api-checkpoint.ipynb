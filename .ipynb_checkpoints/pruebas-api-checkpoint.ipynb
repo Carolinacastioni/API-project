{
 "cells": [
  {
   "cell_type": "code",
   "execution_count": 13,
   "metadata": {},
   "outputs": [],
   "source": [
    "import requests\n",
    "import json"
   ]
  },
  {
   "cell_type": "markdown",
   "metadata": {},
   "source": [
    "# User endpoints "
   ]
  },
  {
   "cell_type": "markdown",
   "metadata": {},
   "source": [
    "## Create users and save into DB"
   ]
  },
  {
   "cell_type": "code",
   "execution_count": 2,
   "metadata": {},
   "outputs": [],
   "source": [
    "names = [\"ana\", \"david\", \"diego\", \"jesus\", \"maca\", \"manuel\", \"maria\", \"roberto\", \"silvia\", \"yuver\", \n",
    "         \"alberto\", \"bea\", \"clara\", \"felipe\", \"flori\", \"luis\", \"marc\", \"juan\", \"miriam\", \"jose\",\n",
    "        \"eren\", \"mikasa\", \"armin\", \"levi\", \"crista\", \"conny\", \"sasha\", \"hanji\", \"irvin\", \"hannes\"]"
   ]
  },
  {
   "cell_type": "code",
   "execution_count": 3,
   "metadata": {},
   "outputs": [
    {
     "data": {
      "text/plain": [
       "30"
      ]
     },
     "execution_count": 3,
     "metadata": {},
     "output_type": "execute_result"
    }
   ],
   "source": [
    "len(names)"
   ]
  },
  {
   "cell_type": "code",
   "execution_count": 4,
   "metadata": {},
   "outputs": [
    {
     "name": "stdout",
     "output_type": "stream",
     "text": [
      "<Response [200]>\n"
     ]
    }
   ],
   "source": [
    "for n in names:\n",
    "    db_names = requests.get(f'http://localhost:3500/user/create/{n}')\n",
    "print(db_names)"
   ]
  },
  {
   "cell_type": "markdown",
   "metadata": {},
   "source": [
    "## Recommend friend to an user based on chat contents"
   ]
  },
  {
   "cell_type": "code",
   "execution_count": null,
   "metadata": {},
   "outputs": [],
   "source": []
  },
  {
   "cell_type": "markdown",
   "metadata": {},
   "source": [
    "# Chat endpoints"
   ]
  },
  {
   "cell_type": "markdown",
   "metadata": {},
   "source": [
    "## Create chats"
   ]
  },
  {
   "cell_type": "code",
   "execution_count": 8,
   "metadata": {},
   "outputs": [],
   "source": [
    "chats = [\"TVShows\", \"Party\", \"Ironhack\", \"Fitness\", \"Cooking\"]"
   ]
  },
  {
   "cell_type": "code",
   "execution_count": 9,
   "metadata": {},
   "outputs": [
    {
     "name": "stdout",
     "output_type": "stream",
     "text": [
      "<Response [200]>\n"
     ]
    }
   ],
   "source": [
    "for c in chats:\n",
    "    db_chats = requests.get(f'http://localhost:3500/chat/create/{c}')\n",
    "print(db_chats)"
   ]
  },
  {
   "cell_type": "markdown",
   "metadata": {},
   "source": [
    "## Add users to a chat"
   ]
  },
  {
   "cell_type": "markdown",
   "metadata": {},
   "source": [
    "Chat: TVShows"
   ]
  },
  {
   "cell_type": "code",
   "execution_count": 20,
   "metadata": {},
   "outputs": [],
   "source": [
    "tv_name = [\"ana\", \"david\", \"diego\", \"jesus\", \"maca\", \"manuel\"]"
   ]
  },
  {
   "cell_type": "code",
   "execution_count": 21,
   "metadata": {},
   "outputs": [
    {
     "data": {
      "text/plain": [
       "'<!DOCTYPE HTML PUBLIC \"-//W3C//DTD HTML 4.01 Transitional//EN\"\\n  \"http://www.w3.org/TR/html4/loose.dtd\">\\n<html>\\n  <head>\\n    <title>pymongo.errors.WriteError: The field \\'user\\' must be an array but is of type string in document {_id: ObjectId(\\'5eac66f2918f5126d701f6c7\\')} // Werkzeug Debugger</title>\\n    <link rel=\"stylesheet\" href=\"?__debugger__=yes&amp;cmd=resource&amp;f=style.css\"\\n        type=\"text/css\">\\n    <!-- We need to make sure this has a favicon so that the debugger does\\n         not by accident trigger a request to /favicon.ico which might\\n         change the application state. -->\\n    <link rel=\"shortcut icon\"\\n        href=\"?__debugger__=yes&amp;cmd=resource&amp;f=console.png\">\\n    <script src=\"?__debugger__=yes&amp;cmd=resource&amp;f=jquery.js\"></script>\\n    <script src=\"?__debugger__=yes&amp;cmd=resource&amp;f=debugger.js\"></script>\\n    <script type=\"text/javascript\">\\n      var TRACEBACK = 139802434219280,\\n          CONSOLE_MODE = false,\\n          EVALEX = true,\\n          EVALEX_TRUSTED = false,\\n          SECRET = \"FCvvscAUV0xhS2TeO1wY\";\\n    </script>\\n  </head>\\n  <body style=\"background-color: #fff\">\\n    <div class=\"debugger\">\\n<h1>pymongo.errors.WriteError</h1>\\n<div class=\"detail\">\\n  <p class=\"errormsg\">pymongo.errors.WriteError: The field \\'user\\' must be an array but is of type string in document {_id: ObjectId(\\'5eac66f2918f5126d701f6c7\\')}</p>\\n</div>\\n<h2 class=\"traceback\">Traceback <em>(most recent call last)</em></h2>\\n<div class=\"traceback\">\\n  \\n  <ul><li><div class=\"frame\" id=\"frame-139802434218384\">\\n  <h4>File <cite class=\"filename\">\"/home/carolina/.local/lib/python3.7/site-packages/flask/app.py\"</cite>,\\n      line <em class=\"line\">2464</em>,\\n      in <code class=\"function\">__call__</code></h4>\\n  <div class=\"source \"><pre class=\"line before\"><span class=\"ws\"></span> </pre>\\n<pre class=\"line before\"><span class=\"ws\">    </span>def __call__(self, environ, start_response):</pre>\\n<pre class=\"line before\"><span class=\"ws\">        </span>&quot;&quot;&quot;The WSGI server calls the Flask application object as the</pre>\\n<pre class=\"line before\"><span class=\"ws\">        </span>WSGI application. This calls :meth:`wsgi_app` which can be</pre>\\n<pre class=\"line before\"><span class=\"ws\">        </span>wrapped to applying middleware.&quot;&quot;&quot;</pre>\\n<pre class=\"line current\"><span class=\"ws\">        </span>return self.wsgi_app(environ, start_response)</pre>\\n<pre class=\"line after\"><span class=\"ws\"></span> </pre>\\n<pre class=\"line after\"><span class=\"ws\">    </span>def __repr__(self):</pre>\\n<pre class=\"line after\"><span class=\"ws\">        </span>return &quot;&lt;%s %r&gt;&quot; % (self.__class__.__name__, self.name)</pre></div>\\n</div>\\n\\n<li><div class=\"frame\" id=\"frame-139802434219856\">\\n  <h4>File <cite class=\"filename\">\"/home/carolina/.local/lib/python3.7/site-packages/flask/app.py\"</cite>,\\n      line <em class=\"line\">2450</em>,\\n      in <code class=\"function\">wsgi_app</code></h4>\\n  <div class=\"source \"><pre class=\"line before\"><span class=\"ws\">            </span>try:</pre>\\n<pre class=\"line before\"><span class=\"ws\">                </span>ctx.push()</pre>\\n<pre class=\"line before\"><span class=\"ws\">                </span>response = self.full_dispatch_request()</pre>\\n<pre class=\"line before\"><span class=\"ws\">            </span>except Exception as e:</pre>\\n<pre class=\"line before\"><span class=\"ws\">                </span>error = e</pre>\\n<pre class=\"line current\"><span class=\"ws\">                </span>response = self.handle_exception(e)</pre>\\n<pre class=\"line after\"><span class=\"ws\">            </span>except:  # noqa: B001</pre>\\n<pre class=\"line after\"><span class=\"ws\">                </span>error = sys.exc_info()[1]</pre>\\n<pre class=\"line after\"><span class=\"ws\">                </span>raise</pre>\\n<pre class=\"line after\"><span class=\"ws\">            </span>return response(environ, start_response)</pre>\\n<pre class=\"line after\"><span class=\"ws\">        </span>finally:</pre></div>\\n</div>\\n\\n<li><div class=\"frame\" id=\"frame-139802434219344\">\\n  <h4>File <cite class=\"filename\">\"/home/carolina/.local/lib/python3.7/site-packages/flask/app.py\"</cite>,\\n      line <em class=\"line\">1867</em>,\\n      in <code class=\"function\">handle_exception</code></h4>\\n  <div class=\"source \"><pre class=\"line before\"><span class=\"ws\">            </span># if we want to repropagate the exception, we can attempt to</pre>\\n<pre class=\"line before\"><span class=\"ws\">            </span># raise it with the whole traceback in case we can do that</pre>\\n<pre class=\"line before\"><span class=\"ws\">            </span># (the function was actually called from the except part)</pre>\\n<pre class=\"line before\"><span class=\"ws\">            </span># otherwise, we just raise the error again</pre>\\n<pre class=\"line before\"><span class=\"ws\">            </span>if exc_value is e:</pre>\\n<pre class=\"line current\"><span class=\"ws\">                </span>reraise(exc_type, exc_value, tb)</pre>\\n<pre class=\"line after\"><span class=\"ws\">            </span>else:</pre>\\n<pre class=\"line after\"><span class=\"ws\">                </span>raise e</pre>\\n<pre class=\"line after\"><span class=\"ws\"></span> </pre>\\n<pre class=\"line after\"><span class=\"ws\">        </span>self.log_exception((exc_type, exc_value, tb))</pre>\\n<pre class=\"line after\"><span class=\"ws\">        </span>server_error = InternalServerError()</pre></div>\\n</div>\\n\\n<li><div class=\"frame\" id=\"frame-139802434219920\">\\n  <h4>File <cite class=\"filename\">\"/home/carolina/.local/lib/python3.7/site-packages/flask/_compat.py\"</cite>,\\n      line <em class=\"line\">39</em>,\\n      in <code class=\"function\">reraise</code></h4>\\n  <div class=\"source \"><pre class=\"line before\"><span class=\"ws\">    </span>import collections.abc as collections_abc</pre>\\n<pre class=\"line before\"><span class=\"ws\"></span> </pre>\\n<pre class=\"line before\"><span class=\"ws\">    </span>def reraise(tp, value, tb=None):</pre>\\n<pre class=\"line before\"><span class=\"ws\">        </span>if value.__traceback__ is not tb:</pre>\\n<pre class=\"line before\"><span class=\"ws\">            </span>raise value.with_traceback(tb)</pre>\\n<pre class=\"line current\"><span class=\"ws\">        </span>raise value</pre>\\n<pre class=\"line after\"><span class=\"ws\"></span> </pre>\\n<pre class=\"line after\"><span class=\"ws\">    </span>implements_to_string = _identity</pre>\\n<pre class=\"line after\"><span class=\"ws\"></span> </pre>\\n<pre class=\"line after\"><span class=\"ws\"></span>else:</pre>\\n<pre class=\"line after\"><span class=\"ws\">    </span>iterkeys = lambda d: d.iterkeys()</pre></div>\\n</div>\\n\\n<li><div class=\"frame\" id=\"frame-139802434236944\">\\n  <h4>File <cite class=\"filename\">\"/home/carolina/.local/lib/python3.7/site-packages/flask/app.py\"</cite>,\\n      line <em class=\"line\">2447</em>,\\n      in <code class=\"function\">wsgi_app</code></h4>\\n  <div class=\"source \"><pre class=\"line before\"><span class=\"ws\">        </span>ctx = self.request_context(environ)</pre>\\n<pre class=\"line before\"><span class=\"ws\">        </span>error = None</pre>\\n<pre class=\"line before\"><span class=\"ws\">        </span>try:</pre>\\n<pre class=\"line before\"><span class=\"ws\">            </span>try:</pre>\\n<pre class=\"line before\"><span class=\"ws\">                </span>ctx.push()</pre>\\n<pre class=\"line current\"><span class=\"ws\">                </span>response = self.full_dispatch_request()</pre>\\n<pre class=\"line after\"><span class=\"ws\">            </span>except Exception as e:</pre>\\n<pre class=\"line after\"><span class=\"ws\">                </span>error = e</pre>\\n<pre class=\"line after\"><span class=\"ws\">                </span>response = self.handle_exception(e)</pre>\\n<pre class=\"line after\"><span class=\"ws\">            </span>except:  # noqa: B001</pre>\\n<pre class=\"line after\"><span class=\"ws\">                </span>error = sys.exc_info()[1]</pre></div>\\n</div>\\n\\n<li><div class=\"frame\" id=\"frame-139802434237136\">\\n  <h4>File <cite class=\"filename\">\"/home/carolina/.local/lib/python3.7/site-packages/flask/app.py\"</cite>,\\n      line <em class=\"line\">1952</em>,\\n      in <code class=\"function\">full_dispatch_request</code></h4>\\n  <div class=\"source \"><pre class=\"line before\"><span class=\"ws\">            </span>request_started.send(self)</pre>\\n<pre class=\"line before\"><span class=\"ws\">            </span>rv = self.preprocess_request()</pre>\\n<pre class=\"line before\"><span class=\"ws\">            </span>if rv is None:</pre>\\n<pre class=\"line before\"><span class=\"ws\">                </span>rv = self.dispatch_request()</pre>\\n<pre class=\"line before\"><span class=\"ws\">        </span>except Exception as e:</pre>\\n<pre class=\"line current\"><span class=\"ws\">            </span>rv = self.handle_user_exception(e)</pre>\\n<pre class=\"line after\"><span class=\"ws\">        </span>return self.finalize_request(rv)</pre>\\n<pre class=\"line after\"><span class=\"ws\"></span> </pre>\\n<pre class=\"line after\"><span class=\"ws\">    </span>def finalize_request(self, rv, from_error_handler=False):</pre>\\n<pre class=\"line after\"><span class=\"ws\">        </span>&quot;&quot;&quot;Given the return value from a view function this finalizes</pre>\\n<pre class=\"line after\"><span class=\"ws\">        </span>the request by converting it into a response and invoking the</pre></div>\\n</div>\\n\\n<li><div class=\"frame\" id=\"frame-139802434237008\">\\n  <h4>File <cite class=\"filename\">\"/home/carolina/.local/lib/python3.7/site-packages/flask/app.py\"</cite>,\\n      line <em class=\"line\">1821</em>,\\n      in <code class=\"function\">handle_user_exception</code></h4>\\n  <div class=\"source \"><pre class=\"line before\"><span class=\"ws\">            </span>return self.handle_http_exception(e)</pre>\\n<pre class=\"line before\"><span class=\"ws\"></span> </pre>\\n<pre class=\"line before\"><span class=\"ws\">        </span>handler = self._find_error_handler(e)</pre>\\n<pre class=\"line before\"><span class=\"ws\"></span> </pre>\\n<pre class=\"line before\"><span class=\"ws\">        </span>if handler is None:</pre>\\n<pre class=\"line current\"><span class=\"ws\">            </span>reraise(exc_type, exc_value, tb)</pre>\\n<pre class=\"line after\"><span class=\"ws\">        </span>return handler(e)</pre>\\n<pre class=\"line after\"><span class=\"ws\"></span> </pre>\\n<pre class=\"line after\"><span class=\"ws\">    </span>def handle_exception(self, e):</pre>\\n<pre class=\"line after\"><span class=\"ws\">        </span>&quot;&quot;&quot;Handle an exception that did not have an error handler</pre>\\n<pre class=\"line after\"><span class=\"ws\">        </span>associated with it, or that was raised from an error handler.</pre></div>\\n</div>\\n\\n<li><div class=\"frame\" id=\"frame-139802434236752\">\\n  <h4>File <cite class=\"filename\">\"/home/carolina/.local/lib/python3.7/site-packages/flask/_compat.py\"</cite>,\\n      line <em class=\"line\">39</em>,\\n      in <code class=\"function\">reraise</code></h4>\\n  <div class=\"source \"><pre class=\"line before\"><span class=\"ws\">    </span>import collections.abc as collections_abc</pre>\\n<pre class=\"line before\"><span class=\"ws\"></span> </pre>\\n<pre class=\"line before\"><span class=\"ws\">    </span>def reraise(tp, value, tb=None):</pre>\\n<pre class=\"line before\"><span class=\"ws\">        </span>if value.__traceback__ is not tb:</pre>\\n<pre class=\"line before\"><span class=\"ws\">            </span>raise value.with_traceback(tb)</pre>\\n<pre class=\"line current\"><span class=\"ws\">        </span>raise value</pre>\\n<pre class=\"line after\"><span class=\"ws\"></span> </pre>\\n<pre class=\"line after\"><span class=\"ws\">    </span>implements_to_string = _identity</pre>\\n<pre class=\"line after\"><span class=\"ws\"></span> </pre>\\n<pre class=\"line after\"><span class=\"ws\"></span>else:</pre>\\n<pre class=\"line after\"><span class=\"ws\">    </span>iterkeys = lambda d: d.iterkeys()</pre></div>\\n</div>\\n\\n<li><div class=\"frame\" id=\"frame-139802434237072\">\\n  <h4>File <cite class=\"filename\">\"/home/carolina/.local/lib/python3.7/site-packages/flask/app.py\"</cite>,\\n      line <em class=\"line\">1950</em>,\\n      in <code class=\"function\">full_dispatch_request</code></h4>\\n  <div class=\"source \"><pre class=\"line before\"><span class=\"ws\">        </span>self.try_trigger_before_first_request_functions()</pre>\\n<pre class=\"line before\"><span class=\"ws\">        </span>try:</pre>\\n<pre class=\"line before\"><span class=\"ws\">            </span>request_started.send(self)</pre>\\n<pre class=\"line before\"><span class=\"ws\">            </span>rv = self.preprocess_request()</pre>\\n<pre class=\"line before\"><span class=\"ws\">            </span>if rv is None:</pre>\\n<pre class=\"line current\"><span class=\"ws\">                </span>rv = self.dispatch_request()</pre>\\n<pre class=\"line after\"><span class=\"ws\">        </span>except Exception as e:</pre>\\n<pre class=\"line after\"><span class=\"ws\">            </span>rv = self.handle_user_exception(e)</pre>\\n<pre class=\"line after\"><span class=\"ws\">        </span>return self.finalize_request(rv)</pre>\\n<pre class=\"line after\"><span class=\"ws\"></span> </pre>\\n<pre class=\"line after\"><span class=\"ws\">    </span>def finalize_request(self, rv, from_error_handler=False):</pre></div>\\n</div>\\n\\n<li><div class=\"frame\" id=\"frame-139802434236880\">\\n  <h4>File <cite class=\"filename\">\"/home/carolina/.local/lib/python3.7/site-packages/flask/app.py\"</cite>,\\n      line <em class=\"line\">1936</em>,\\n      in <code class=\"function\">dispatch_request</code></h4>\\n  <div class=\"source \"><pre class=\"line before\"><span class=\"ws\">            </span>getattr(rule, &quot;provide_automatic_options&quot;, False)</pre>\\n<pre class=\"line before\"><span class=\"ws\">            </span>and req.method == &quot;OPTIONS&quot;</pre>\\n<pre class=\"line before\"><span class=\"ws\">        </span>):</pre>\\n<pre class=\"line before\"><span class=\"ws\">            </span>return self.make_default_options_response()</pre>\\n<pre class=\"line before\"><span class=\"ws\">        </span># otherwise dispatch to the handler for that endpoint</pre>\\n<pre class=\"line current\"><span class=\"ws\">        </span>return self.view_functions[rule.endpoint](**req.view_args)</pre>\\n<pre class=\"line after\"><span class=\"ws\"></span> </pre>\\n<pre class=\"line after\"><span class=\"ws\">    </span>def full_dispatch_request(self):</pre>\\n<pre class=\"line after\"><span class=\"ws\">        </span>&quot;&quot;&quot;Dispatches the request and on top of that performs request</pre>\\n<pre class=\"line after\"><span class=\"ws\">        </span>pre and postprocessing as well as HTTP exception catching and</pre>\\n<pre class=\"line after\"><span class=\"ws\">        </span>error handling.</pre></div>\\n</div>\\n\\n<li><div class=\"frame\" id=\"frame-139802434236496\">\\n  <h4>File <cite class=\"filename\">\"/home/carolina/Desktop/IRONHACK/API-project/src/errorHandler.py\"</cite>,\\n      line <em class=\"line\">11</em>,\\n      in <code class=\"function\">wrapper</code></h4>\\n  <div class=\"source \"><pre class=\"line before\"><span class=\"ws\"></span> </pre>\\n<pre class=\"line before\"><span class=\"ws\"></span> </pre>\\n<pre class=\"line before\"><span class=\"ws\"></span>def errorHandler(fn):</pre>\\n<pre class=\"line before\"><span class=\"ws\">    </span>def wrapper(*args,**kwargs):</pre>\\n<pre class=\"line before\"><span class=\"ws\">        </span>try:</pre>\\n<pre class=\"line current\"><span class=\"ws\">            </span>return fn(*args,**kwargs)</pre>\\n<pre class=\"line after\"><span class=\"ws\">        </span>except APIError as e:</pre>\\n<pre class=\"line after\"><span class=\"ws\">            </span>print(e)</pre>\\n<pre class=\"line after\"><span class=\"ws\">            </span>return {</pre>\\n<pre class=\"line after\"><span class=\"ws\">                </span>&quot;status&quot;:&quot;error&quot;,</pre>\\n<pre class=\"line after\"><span class=\"ws\">                </span>&quot;message&quot;:str(e)</pre></div>\\n</div>\\n\\n<li><div class=\"frame\" id=\"frame-139802434236624\">\\n  <h4>File <cite class=\"filename\">\"/home/carolina/Desktop/IRONHACK/API-project/api.py\"</cite>,\\n      line <em class=\"line\">26</em>,\\n      in <code class=\"function\">adduser</code></h4>\\n  <div class=\"source \"><pre class=\"line before\"><span class=\"ws\"></span> </pre>\\n<pre class=\"line before\"><span class=\"ws\"></span>#Add user to a chat</pre>\\n<pre class=\"line before\"><span class=\"ws\"></span>@app.route(&quot;/chat/&lt;chatname&gt;/adduser/&lt;username&gt;&quot;)</pre>\\n<pre class=\"line before\"><span class=\"ws\"></span>@errorHandler</pre>\\n<pre class=\"line before\"><span class=\"ws\"></span>def adduser(chatname, username):</pre>\\n<pre class=\"line current\"><span class=\"ws\">    </span>add_users = addUser(chatname, username)</pre>\\n<pre class=\"line after\"><span class=\"ws\">    </span>print(add_users)</pre>\\n<pre class=\"line after\"><span class=\"ws\">    </span>return add_users</pre>\\n<pre class=\"line after\"><span class=\"ws\"></span> </pre>\\n<pre class=\"line after\"><span class=\"ws\"></span>app.run(&quot;0.0.0.0&quot;, PORT, debug=True)</pre></div>\\n</div>\\n\\n<li><div class=\"frame\" id=\"frame-139802434237456\">\\n  <h4>File <cite class=\"filename\">\"/home/carolina/Desktop/IRONHACK/API-project/src/mongo.py\"</cite>,\\n      line <em class=\"line\">42</em>,\\n      in <code class=\"function\">addUser</code></h4>\\n  <div class=\"source \"><pre class=\"line before\"><span class=\"ws\">    </span>if queryuser.count() == 0:</pre>\\n<pre class=\"line before\"><span class=\"ws\">        </span>return f&quot;Error: This user doesn\\'t exist.&quot;</pre>\\n<pre class=\"line before\"><span class=\"ws\">    </span>else:</pre>\\n<pre class=\"line before\"><span class=\"ws\">        </span>query = db.find({&quot;$and&quot;:[{&quot;user&quot;: username},{&quot;chat&quot;: chatname}]},{\\'_id\\':0})</pre>\\n<pre class=\"line before\"><span class=\"ws\">        </span>if query.count() == 0:</pre>\\n<pre class=\"line current\"><span class=\"ws\">            </span>db.update({&quot;chat&quot;:chatname},{&quot;$push&quot;:{&quot;user&quot;:username}})</pre>\\n<pre class=\"line after\"><span class=\"ws\">            </span>return f&quot;Great! The user were added to the chat.&quot;</pre>\\n<pre class=\"line after\"><span class=\"ws\">        </span>else:</pre>\\n<pre class=\"line after\"><span class=\"ws\">            </span>return f&quot;This is already in the chat.&quot;</pre>\\n<pre class=\"line after\"><span class=\"ws\"></span> </pre></div>\\n</div>\\n\\n<li><div class=\"frame\" id=\"frame-139802434237328\">\\n  <h4>File <cite class=\"filename\">\"/home/carolina/.local/lib/python3.7/site-packages/pymongo/collection.py\"</cite>,\\n      line <em class=\"line\">3215</em>,\\n      in <code class=\"function\">update</code></h4>\\n  <div class=\"source \"><pre class=\"line before\"><span class=\"ws\">        </span>collation = validate_collation_or_none(kwargs.pop(\\'collation\\', None))</pre>\\n<pre class=\"line before\"><span class=\"ws\">        </span>if kwargs:</pre>\\n<pre class=\"line before\"><span class=\"ws\">            </span>write_concern = WriteConcern(**kwargs)</pre>\\n<pre class=\"line before\"><span class=\"ws\">        </span>return self._update_retryable(</pre>\\n<pre class=\"line before\"><span class=\"ws\">            </span>spec, document, upsert, check_keys, multi, manipulate,</pre>\\n<pre class=\"line current\"><span class=\"ws\">            </span>write_concern, collation=collation)</pre>\\n<pre class=\"line after\"><span class=\"ws\"></span> </pre>\\n<pre class=\"line after\"><span class=\"ws\">    </span>def remove(self, spec_or_id=None, multi=True, **kwargs):</pre>\\n<pre class=\"line after\"><span class=\"ws\">        </span>&quot;&quot;&quot;Remove a document(s) from this collection.</pre>\\n<pre class=\"line after\"><span class=\"ws\"></span> </pre>\\n<pre class=\"line after\"><span class=\"ws\">        </span>**DEPRECATED** - Use :meth:`delete_one` or :meth:`delete_many` instead.</pre></div>\\n</div>\\n\\n<li><div class=\"frame\" id=\"frame-139802434237520\">\\n  <h4>File <cite class=\"filename\">\"/home/carolina/.local/lib/python3.7/site-packages/pymongo/collection.py\"</cite>,\\n      line <em class=\"line\">856</em>,\\n      in <code class=\"function\">_update_retryable</code></h4>\\n  <div class=\"source \"><pre class=\"line before\"><span class=\"ws\">                </span>array_filters=array_filters, session=session,</pre>\\n<pre class=\"line before\"><span class=\"ws\">                </span>retryable_write=retryable_write)</pre>\\n<pre class=\"line before\"><span class=\"ws\"></span> </pre>\\n<pre class=\"line before\"><span class=\"ws\">        </span>return self.__database.client._retryable_write(</pre>\\n<pre class=\"line before\"><span class=\"ws\">            </span>(write_concern or self.write_concern).acknowledged and not multi,</pre>\\n<pre class=\"line current\"><span class=\"ws\">            </span>_update, session)</pre>\\n<pre class=\"line after\"><span class=\"ws\"></span> </pre>\\n<pre class=\"line after\"><span class=\"ws\">    </span>def replace_one(self, filter, replacement, upsert=False,</pre>\\n<pre class=\"line after\"><span class=\"ws\">                    </span>bypass_document_validation=False, collation=None,</pre>\\n<pre class=\"line after\"><span class=\"ws\">                    </span>session=None):</pre>\\n<pre class=\"line after\"><span class=\"ws\">        </span>&quot;&quot;&quot;Replace a single document matching the filter.</pre></div>\\n</div>\\n\\n<li><div class=\"frame\" id=\"frame-139802434237200\">\\n  <h4>File <cite class=\"filename\">\"/home/carolina/.local/lib/python3.7/site-packages/pymongo/mongo_client.py\"</cite>,\\n      line <em class=\"line\">1491</em>,\\n      in <code class=\"function\">_retryable_write</code></h4>\\n  <div class=\"source \"><pre class=\"line before\"><span class=\"ws\">                </span>last_error = exc</pre>\\n<pre class=\"line before\"><span class=\"ws\"></span> </pre>\\n<pre class=\"line before\"><span class=\"ws\">    </span>def _retryable_write(self, retryable, func, session):</pre>\\n<pre class=\"line before\"><span class=\"ws\">        </span>&quot;&quot;&quot;Internal retryable write helper.&quot;&quot;&quot;</pre>\\n<pre class=\"line before\"><span class=\"ws\">        </span>with self._tmp_session(session) as s:</pre>\\n<pre class=\"line current\"><span class=\"ws\">            </span>return self._retry_with_session(retryable, func, s, None)</pre>\\n<pre class=\"line after\"><span class=\"ws\"></span> </pre>\\n<pre class=\"line after\"><span class=\"ws\">    </span>def _reset_server(self, address):</pre>\\n<pre class=\"line after\"><span class=\"ws\">        </span>&quot;&quot;&quot;Clear our connection pool for a server and mark it Unknown.&quot;&quot;&quot;</pre>\\n<pre class=\"line after\"><span class=\"ws\">        </span>self._topology.reset_server(address)</pre>\\n<pre class=\"line after\"><span class=\"ws\"></span> </pre></div>\\n</div>\\n\\n<li><div class=\"frame\" id=\"frame-139802434236688\">\\n  <h4>File <cite class=\"filename\">\"/home/carolina/.local/lib/python3.7/site-packages/pymongo/mongo_client.py\"</cite>,\\n      line <em class=\"line\">1384</em>,\\n      in <code class=\"function\">_retry_with_session</code></h4>\\n  <div class=\"source \"><pre class=\"line before\"><span class=\"ws\">                        </span>if is_retrying():</pre>\\n<pre class=\"line before\"><span class=\"ws\">                            </span># A retry is not possible because this server does</pre>\\n<pre class=\"line before\"><span class=\"ws\">                            </span># not support sessions raise the last error.</pre>\\n<pre class=\"line before\"><span class=\"ws\">                            </span>raise last_error</pre>\\n<pre class=\"line before\"><span class=\"ws\">                        </span>retryable = False</pre>\\n<pre class=\"line current\"><span class=\"ws\">                    </span>return func(session, sock_info, retryable)</pre>\\n<pre class=\"line after\"><span class=\"ws\">            </span>except ServerSelectionTimeoutError:</pre>\\n<pre class=\"line after\"><span class=\"ws\">                </span>if is_retrying():</pre>\\n<pre class=\"line after\"><span class=\"ws\">                    </span># The application may think the write was never attempted</pre>\\n<pre class=\"line after\"><span class=\"ws\">                    </span># if we raise ServerSelectionTimeoutError on the retry</pre>\\n<pre class=\"line after\"><span class=\"ws\">                    </span># attempt. Raise the original exception instead.</pre></div>\\n</div>\\n\\n<li><div class=\"frame\" id=\"frame-139802434237264\">\\n  <h4>File <cite class=\"filename\">\"/home/carolina/.local/lib/python3.7/site-packages/pymongo/collection.py\"</cite>,\\n      line <em class=\"line\">852</em>,\\n      in <code class=\"function\">_update</code></h4>\\n  <div class=\"source \"><pre class=\"line before\"><span class=\"ws\">                </span>sock_info, criteria, document, upsert=upsert,</pre>\\n<pre class=\"line before\"><span class=\"ws\">                </span>check_keys=check_keys, multi=multi, manipulate=manipulate,</pre>\\n<pre class=\"line before\"><span class=\"ws\">                </span>write_concern=write_concern, op_id=op_id, ordered=ordered,</pre>\\n<pre class=\"line before\"><span class=\"ws\">                </span>bypass_doc_val=bypass_doc_val, collation=collation,</pre>\\n<pre class=\"line before\"><span class=\"ws\">                </span>array_filters=array_filters, session=session,</pre>\\n<pre class=\"line current\"><span class=\"ws\">                </span>retryable_write=retryable_write)</pre>\\n<pre class=\"line after\"><span class=\"ws\"></span> </pre>\\n<pre class=\"line after\"><span class=\"ws\">        </span>return self.__database.client._retryable_write(</pre>\\n<pre class=\"line after\"><span class=\"ws\">            </span>(write_concern or self.write_concern).acknowledged and not multi,</pre>\\n<pre class=\"line after\"><span class=\"ws\">            </span>_update, session)</pre>\\n<pre class=\"line after\"><span class=\"ws\"></span> </pre></div>\\n</div>\\n\\n<li><div class=\"frame\" id=\"frame-139802434237392\">\\n  <h4>File <cite class=\"filename\">\"/home/carolina/.local/lib/python3.7/site-packages/pymongo/collection.py\"</cite>,\\n      line <em class=\"line\">823</em>,\\n      in <code class=\"function\">_update</code></h4>\\n  <div class=\"source \"><pre class=\"line before\"><span class=\"ws\">            </span>write_concern=write_concern,</pre>\\n<pre class=\"line before\"><span class=\"ws\">            </span>codec_options=self.__write_response_codec_options,</pre>\\n<pre class=\"line before\"><span class=\"ws\">            </span>session=session,</pre>\\n<pre class=\"line before\"><span class=\"ws\">            </span>client=self.__database.client,</pre>\\n<pre class=\"line before\"><span class=\"ws\">            </span>retryable_write=retryable_write).copy()</pre>\\n<pre class=\"line current\"><span class=\"ws\">        </span>_check_write_command_response(result)</pre>\\n<pre class=\"line after\"><span class=\"ws\">        </span># Add the updatedExisting field for compatibility.</pre>\\n<pre class=\"line after\"><span class=\"ws\">        </span>if result.get(\\'n\\') and \\'upserted\\' not in result:</pre>\\n<pre class=\"line after\"><span class=\"ws\">            </span>result[\\'updatedExisting\\'] = True</pre>\\n<pre class=\"line after\"><span class=\"ws\">        </span>else:</pre>\\n<pre class=\"line after\"><span class=\"ws\">            </span>result[\\'updatedExisting\\'] = False</pre></div>\\n</div>\\n\\n<li><div class=\"frame\" id=\"frame-139802434237584\">\\n  <h4>File <cite class=\"filename\">\"/home/carolina/.local/lib/python3.7/site-packages/pymongo/helpers.py\"</cite>,\\n      line <em class=\"line\">221</em>,\\n      in <code class=\"function\">_check_write_command_response</code></h4>\\n  <div class=\"source \"><pre class=\"line before\"><span class=\"ws\">    </span>&quot;&quot;&quot;Backward compatibility helper for write command error handling.</pre>\\n<pre class=\"line before\"><span class=\"ws\">    </span>&quot;&quot;&quot;</pre>\\n<pre class=\"line before\"><span class=\"ws\">    </span># Prefer write errors over write concern errors</pre>\\n<pre class=\"line before\"><span class=\"ws\">    </span>write_errors = result.get(&quot;writeErrors&quot;)</pre>\\n<pre class=\"line before\"><span class=\"ws\">    </span>if write_errors:</pre>\\n<pre class=\"line current\"><span class=\"ws\">        </span>_raise_last_write_error(write_errors)</pre>\\n<pre class=\"line after\"><span class=\"ws\"></span> </pre>\\n<pre class=\"line after\"><span class=\"ws\">    </span>error = result.get(&quot;writeConcernError&quot;)</pre>\\n<pre class=\"line after\"><span class=\"ws\">    </span>if error:</pre>\\n<pre class=\"line after\"><span class=\"ws\">        </span>_raise_write_concern_error(error)</pre>\\n<pre class=\"line after\"><span class=\"ws\"></span> </pre></div>\\n</div>\\n\\n<li><div class=\"frame\" id=\"frame-139802434237712\">\\n  <h4>File <cite class=\"filename\">\"/home/carolina/.local/lib/python3.7/site-packages/pymongo/helpers.py\"</cite>,\\n      line <em class=\"line\">203</em>,\\n      in <code class=\"function\">_raise_last_write_error</code></h4>\\n  <div class=\"source \"><pre class=\"line before\"><span class=\"ws\">    </span># If the last batch had multiple errors only report</pre>\\n<pre class=\"line before\"><span class=\"ws\">    </span># the last error to emulate continue_on_error.</pre>\\n<pre class=\"line before\"><span class=\"ws\">    </span>error = write_errors[-1]</pre>\\n<pre class=\"line before\"><span class=\"ws\">    </span>if error.get(&quot;code&quot;) == 11000:</pre>\\n<pre class=\"line before\"><span class=\"ws\">        </span>raise DuplicateKeyError(error.get(&quot;errmsg&quot;), 11000, error)</pre>\\n<pre class=\"line current\"><span class=\"ws\">    </span>raise WriteError(error.get(&quot;errmsg&quot;), error.get(&quot;code&quot;), error)</pre>\\n<pre class=\"line after\"><span class=\"ws\"></span> </pre>\\n<pre class=\"line after\"><span class=\"ws\"></span> </pre>\\n<pre class=\"line after\"><span class=\"ws\"></span>def _raise_write_concern_error(error):</pre>\\n<pre class=\"line after\"><span class=\"ws\">    </span>if &quot;errInfo&quot; in error and error[&quot;errInfo&quot;].get(\\'wtimeout\\'):</pre>\\n<pre class=\"line after\"><span class=\"ws\">        </span># Make sure we raise WTimeoutError</pre></div>\\n</div>\\n</ul>\\n  <blockquote>pymongo.errors.WriteError: The field \\'user\\' must be an array but is of type string in document {_id: ObjectId(\\'5eac66f2918f5126d701f6c7\\')}</blockquote>\\n</div>\\n\\n<div class=\"plain\">\\n  <form action=\"/?__debugger__=yes&amp;cmd=paste\" method=\"post\">\\n    <p>\\n      <input type=\"hidden\" name=\"language\" value=\"pytb\">\\n      This is the Copy/Paste friendly version of the traceback.  <span\\n      class=\"pastemessage\">You can also paste this traceback into\\n      a <a href=\"https://gist.github.com/\">gist</a>:\\n      <input type=\"submit\" value=\"create paste\"></span>\\n    </p>\\n    <textarea cols=\"50\" rows=\"10\" name=\"code\" readonly>Traceback (most recent call last):\\n  File &quot;/home/carolina/.local/lib/python3.7/site-packages/flask/app.py&quot;, line 2464, in __call__\\n    return self.wsgi_app(environ, start_response)\\n  File &quot;/home/carolina/.local/lib/python3.7/site-packages/flask/app.py&quot;, line 2450, in wsgi_app\\n    response = self.handle_exception(e)\\n  File &quot;/home/carolina/.local/lib/python3.7/site-packages/flask/app.py&quot;, line 1867, in handle_exception\\n    reraise(exc_type, exc_value, tb)\\n  File &quot;/home/carolina/.local/lib/python3.7/site-packages/flask/_compat.py&quot;, line 39, in reraise\\n    raise value\\n  File &quot;/home/carolina/.local/lib/python3.7/site-packages/flask/app.py&quot;, line 2447, in wsgi_app\\n    response = self.full_dispatch_request()\\n  File &quot;/home/carolina/.local/lib/python3.7/site-packages/flask/app.py&quot;, line 1952, in full_dispatch_request\\n    rv = self.handle_user_exception(e)\\n  File &quot;/home/carolina/.local/lib/python3.7/site-packages/flask/app.py&quot;, line 1821, in handle_user_exception\\n    reraise(exc_type, exc_value, tb)\\n  File &quot;/home/carolina/.local/lib/python3.7/site-packages/flask/_compat.py&quot;, line 39, in reraise\\n    raise value\\n  File &quot;/home/carolina/.local/lib/python3.7/site-packages/flask/app.py&quot;, line 1950, in full_dispatch_request\\n    rv = self.dispatch_request()\\n  File &quot;/home/carolina/.local/lib/python3.7/site-packages/flask/app.py&quot;, line 1936, in dispatch_request\\n    return self.view_functions[rule.endpoint](**req.view_args)\\n  File &quot;/home/carolina/Desktop/IRONHACK/API-project/src/errorHandler.py&quot;, line 11, in wrapper\\n    return fn(*args,**kwargs)\\n  File &quot;/home/carolina/Desktop/IRONHACK/API-project/api.py&quot;, line 26, in adduser\\n    add_users = addUser(chatname, username)\\n  File &quot;/home/carolina/Desktop/IRONHACK/API-project/src/mongo.py&quot;, line 42, in addUser\\n    db.update({&quot;chat&quot;:chatname},{&quot;$push&quot;:{&quot;user&quot;:username}})\\n  File &quot;/home/carolina/.local/lib/python3.7/site-packages/pymongo/collection.py&quot;, line 3215, in update\\n    write_concern, collation=collation)\\n  File &quot;/home/carolina/.local/lib/python3.7/site-packages/pymongo/collection.py&quot;, line 856, in _update_retryable\\n    _update, session)\\n  File &quot;/home/carolina/.local/lib/python3.7/site-packages/pymongo/mongo_client.py&quot;, line 1491, in _retryable_write\\n    return self._retry_with_session(retryable, func, s, None)\\n  File &quot;/home/carolina/.local/lib/python3.7/site-packages/pymongo/mongo_client.py&quot;, line 1384, in _retry_with_session\\n    return func(session, sock_info, retryable)\\n  File &quot;/home/carolina/.local/lib/python3.7/site-packages/pymongo/collection.py&quot;, line 852, in _update\\n    retryable_write=retryable_write)\\n  File &quot;/home/carolina/.local/lib/python3.7/site-packages/pymongo/collection.py&quot;, line 823, in _update\\n    _check_write_command_response(result)\\n  File &quot;/home/carolina/.local/lib/python3.7/site-packages/pymongo/helpers.py&quot;, line 221, in _check_write_command_response\\n    _raise_last_write_error(write_errors)\\n  File &quot;/home/carolina/.local/lib/python3.7/site-packages/pymongo/helpers.py&quot;, line 203, in _raise_last_write_error\\n    raise WriteError(error.get(&quot;errmsg&quot;), error.get(&quot;code&quot;), error)\\npymongo.errors.WriteError: The field \\'user\\' must be an array but is of type string in document {_id: ObjectId(\\'5eac66f2918f5126d701f6c7\\')}</textarea>\\n  </form>\\n</div>\\n<div class=\"explanation\">\\n  The debugger caught an exception in your WSGI application.  You can now\\n  look at the traceback which led to the error.  <span class=\"nojavascript\">\\n  If you enable JavaScript you can also use additional features such as code\\n  execution (if the evalex feature is enabled), automatic pasting of the\\n  exceptions and much more.</span>\\n</div>\\n      <div class=\"footer\">\\n        Brought to you by <strong class=\"arthur\">DON\\'T PANIC</strong>, your\\n        friendly Werkzeug powered traceback interpreter.\\n      </div>\\n    </div>\\n\\n    <div class=\"pin-prompt\">\\n      <div class=\"inner\">\\n        <h3>Console Locked</h3>\\n        <p>\\n          The console is locked and needs to be unlocked by entering the PIN.\\n          You can find the PIN printed out on the standard output of your\\n          shell that runs the server.\\n        <form>\\n          <p>PIN:\\n            <input type=text name=pin size=14>\\n            <input type=submit name=btn value=\"Confirm Pin\">\\n        </form>\\n      </div>\\n    </div>\\n  </body>\\n</html>\\n\\n<!--\\n\\nTraceback (most recent call last):\\n  File \"/home/carolina/.local/lib/python3.7/site-packages/flask/app.py\", line 2464, in __call__\\n    return self.wsgi_app(environ, start_response)\\n  File \"/home/carolina/.local/lib/python3.7/site-packages/flask/app.py\", line 2450, in wsgi_app\\n    response = self.handle_exception(e)\\n  File \"/home/carolina/.local/lib/python3.7/site-packages/flask/app.py\", line 1867, in handle_exception\\n    reraise(exc_type, exc_value, tb)\\n  File \"/home/carolina/.local/lib/python3.7/site-packages/flask/_compat.py\", line 39, in reraise\\n    raise value\\n  File \"/home/carolina/.local/lib/python3.7/site-packages/flask/app.py\", line 2447, in wsgi_app\\n    response = self.full_dispatch_request()\\n  File \"/home/carolina/.local/lib/python3.7/site-packages/flask/app.py\", line 1952, in full_dispatch_request\\n    rv = self.handle_user_exception(e)\\n  File \"/home/carolina/.local/lib/python3.7/site-packages/flask/app.py\", line 1821, in handle_user_exception\\n    reraise(exc_type, exc_value, tb)\\n  File \"/home/carolina/.local/lib/python3.7/site-packages/flask/_compat.py\", line 39, in reraise\\n    raise value\\n  File \"/home/carolina/.local/lib/python3.7/site-packages/flask/app.py\", line 1950, in full_dispatch_request\\n    rv = self.dispatch_request()\\n  File \"/home/carolina/.local/lib/python3.7/site-packages/flask/app.py\", line 1936, in dispatch_request\\n    return self.view_functions[rule.endpoint](**req.view_args)\\n  File \"/home/carolina/Desktop/IRONHACK/API-project/src/errorHandler.py\", line 11, in wrapper\\n    return fn(*args,**kwargs)\\n  File \"/home/carolina/Desktop/IRONHACK/API-project/api.py\", line 26, in adduser\\n    add_users = addUser(chatname, username)\\n  File \"/home/carolina/Desktop/IRONHACK/API-project/src/mongo.py\", line 42, in addUser\\n    db.update({\"chat\":chatname},{\"$push\":{\"user\":username}})\\n  File \"/home/carolina/.local/lib/python3.7/site-packages/pymongo/collection.py\", line 3215, in update\\n    write_concern, collation=collation)\\n  File \"/home/carolina/.local/lib/python3.7/site-packages/pymongo/collection.py\", line 856, in _update_retryable\\n    _update, session)\\n  File \"/home/carolina/.local/lib/python3.7/site-packages/pymongo/mongo_client.py\", line 1491, in _retryable_write\\n    return self._retry_with_session(retryable, func, s, None)\\n  File \"/home/carolina/.local/lib/python3.7/site-packages/pymongo/mongo_client.py\", line 1384, in _retry_with_session\\n    return func(session, sock_info, retryable)\\n  File \"/home/carolina/.local/lib/python3.7/site-packages/pymongo/collection.py\", line 852, in _update\\n    retryable_write=retryable_write)\\n  File \"/home/carolina/.local/lib/python3.7/site-packages/pymongo/collection.py\", line 823, in _update\\n    _check_write_command_response(result)\\n  File \"/home/carolina/.local/lib/python3.7/site-packages/pymongo/helpers.py\", line 221, in _check_write_command_response\\n    _raise_last_write_error(write_errors)\\n  File \"/home/carolina/.local/lib/python3.7/site-packages/pymongo/helpers.py\", line 203, in _raise_last_write_error\\n    raise WriteError(error.get(\"errmsg\"), error.get(\"code\"), error)\\npymongo.errors.WriteError: The field \\'user\\' must be an array but is of type string in document {_id: ObjectId(\\'5eac66f2918f5126d701f6c7\\')}\\n\\n-->\\n'"
      ]
     },
     "execution_count": 21,
     "metadata": {},
     "output_type": "execute_result"
    }
   ],
   "source": [
    "requests.get(f'http://localhost:3500/chat/TVShows/adduser/ana').text"
   ]
  },
  {
   "cell_type": "markdown",
   "metadata": {},
   "source": [
    "Chat: Party"
   ]
  },
  {
   "cell_type": "code",
   "execution_count": null,
   "metadata": {},
   "outputs": [],
   "source": [
    "party_name = [\"maria\", \"roberto\", \"silvia\", \"yuver\", \"alberto\", \"bea\"]"
   ]
  },
  {
   "cell_type": "code",
   "execution_count": null,
   "metadata": {},
   "outputs": [],
   "source": [
    "for p in party_name:\n",
    "    party = requests.get(f'http://localhost:3500/chat/Party/adduser/{p}').text"
   ]
  },
  {
   "cell_type": "markdown",
   "metadata": {},
   "source": [
    "Chat: Ironhack"
   ]
  },
  {
   "cell_type": "code",
   "execution_count": null,
   "metadata": {},
   "outputs": [],
   "source": [
    "ironhackers = [\"clara\", \"felipe\", \"flori\", \"luis\", \"marc\", \"juan\"]"
   ]
  },
  {
   "cell_type": "code",
   "execution_count": null,
   "metadata": {},
   "outputs": [],
   "source": [
    "for iron in ironhackers:\n",
    "    requests.get(f'http://localhost:3500/chat/Ironhack/adduser/{iron}').text"
   ]
  },
  {
   "cell_type": "markdown",
   "metadata": {},
   "source": [
    "Chat: Fitness"
   ]
  },
  {
   "cell_type": "code",
   "execution_count": null,
   "metadata": {},
   "outputs": [],
   "source": [
    "fit_name = [\"miriam\", \"jose\",\"eren\", \"mikasa\", \"armin\", \"levi\"]"
   ]
  },
  {
   "cell_type": "code",
   "execution_count": null,
   "metadata": {},
   "outputs": [],
   "source": [
    "for f in fit_name:\n",
    "    requests.get(f'http://localhost:3500/chat/Fitness/adduser/{f}').text"
   ]
  },
  {
   "cell_type": "markdown",
   "metadata": {},
   "source": [
    "Chat: Cooking"
   ]
  },
  {
   "cell_type": "code",
   "execution_count": null,
   "metadata": {},
   "outputs": [],
   "source": [
    "cook_name = [\"crista\", \"conny\", \"sasha\", \"hanji\", \"irvin\", \"hannes\"]"
   ]
  },
  {
   "cell_type": "code",
   "execution_count": null,
   "metadata": {},
   "outputs": [],
   "source": [
    "for c in cook_name:\n",
    "    requests.get(f'http://localhost:3500/chat/Cooking/adduser/{c}').text"
   ]
  },
  {
   "cell_type": "code",
   "execution_count": null,
   "metadata": {},
   "outputs": [],
   "source": []
  }
 ],
 "metadata": {
  "kernelspec": {
   "display_name": "Python 3",
   "language": "python",
   "name": "python3"
  },
  "language_info": {
   "codemirror_mode": {
    "name": "ipython",
    "version": 3
   },
   "file_extension": ".py",
   "mimetype": "text/x-python",
   "name": "python",
   "nbconvert_exporter": "python",
   "pygments_lexer": "ipython3",
   "version": "3.7.5"
  }
 },
 "nbformat": 4,
 "nbformat_minor": 4
}
