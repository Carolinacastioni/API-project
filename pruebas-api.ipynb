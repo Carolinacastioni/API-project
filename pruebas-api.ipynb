{
 "cells": [
  {
   "cell_type": "code",
   "execution_count": 116,
   "metadata": {},
   "outputs": [
    {
     "name": "stderr",
     "output_type": "stream",
     "text": [
      "[nltk_data] Downloading package vader_lexicon to\n",
      "[nltk_data]     /home/carolina/nltk_data...\n",
      "[nltk_data]   Package vader_lexicon is already up-to-date!\n"
     ]
    },
    {
     "data": {
      "text/plain": [
       "True"
      ]
     },
     "execution_count": 116,
     "metadata": {},
     "output_type": "execute_result"
    }
   ],
   "source": [
    "import requests\n",
    "import json\n",
    "from nltk.sentiment.vader import SentimentIntensityAnalyzer\n",
    "import nltk\n",
    "nltk.download('vader_lexicon')"
   ]
  },
  {
   "cell_type": "markdown",
   "metadata": {},
   "source": [
    "# User endpoints "
   ]
  },
  {
   "cell_type": "markdown",
   "metadata": {},
   "source": [
    "## Create users and save into DB"
   ]
  },
  {
   "cell_type": "code",
   "execution_count": 2,
   "metadata": {},
   "outputs": [],
   "source": [
    "names = [\"ana\", \"david\", \"diego\", \"jesus\", \"maca\", \"manuel\", \"maria\", \"roberto\", \"silvia\", \"yuver\", \n",
    "         \"alberto\", \"bea\", \"clara\", \"felipe\", \"flori\", \"luis\", \"marc\", \"juan\", \"miriam\", \"jose\",\n",
    "        \"eren\", \"mikasa\", \"armin\", \"levi\", \"crista\", \"conny\", \"sasha\", \"hanji\", \"irvin\", \"hannes\"]"
   ]
  },
  {
   "cell_type": "code",
   "execution_count": 3,
   "metadata": {},
   "outputs": [
    {
     "data": {
      "text/plain": [
       "30"
      ]
     },
     "execution_count": 3,
     "metadata": {},
     "output_type": "execute_result"
    }
   ],
   "source": [
    "len(names)"
   ]
  },
  {
   "cell_type": "code",
   "execution_count": 4,
   "metadata": {},
   "outputs": [
    {
     "name": "stdout",
     "output_type": "stream",
     "text": [
      "<Response [200]>\n"
     ]
    }
   ],
   "source": [
    "for n in names:\n",
    "    db_names = requests.get(f'http://localhost:3500/user/create/{n}')\n",
    "print(db_names)"
   ]
  },
  {
   "cell_type": "markdown",
   "metadata": {},
   "source": [
    "# Chat endpoints"
   ]
  },
  {
   "cell_type": "markdown",
   "metadata": {},
   "source": [
    "## Create chats"
   ]
  },
  {
   "cell_type": "code",
   "execution_count": 74,
   "metadata": {},
   "outputs": [],
   "source": [
    "chats = [\"TVShows\", \"Party\", \"Ironhack\", \"Fitness\", \"Cooking\"]"
   ]
  },
  {
   "cell_type": "code",
   "execution_count": 9,
   "metadata": {},
   "outputs": [
    {
     "name": "stdout",
     "output_type": "stream",
     "text": [
      "<Response [200]>\n"
     ]
    }
   ],
   "source": [
    "for c in chats:\n",
    "    db_chats = requests.get(f'http://localhost:3500/chat/create/{c}')\n",
    "print(db_chats)"
   ]
  },
  {
   "cell_type": "markdown",
   "metadata": {},
   "source": [
    "## Add users to a chat"
   ]
  },
  {
   "cell_type": "markdown",
   "metadata": {},
   "source": [
    "Chat: TVShows"
   ]
  },
  {
   "cell_type": "code",
   "execution_count": 39,
   "metadata": {},
   "outputs": [],
   "source": [
    "tv_name = [\"ana\",\"david\", \"diego\", \"jesus\", \"maca\", \"manuel\"]"
   ]
  },
  {
   "cell_type": "code",
   "execution_count": 4,
   "metadata": {},
   "outputs": [],
   "source": [
    "for t in tv_name:\n",
    "    requests.get(f'http://localhost:3500/chat/TVShows/adduser/{t}').text"
   ]
  },
  {
   "cell_type": "markdown",
   "metadata": {},
   "source": [
    "Chat: Party"
   ]
  },
  {
   "cell_type": "code",
   "execution_count": 43,
   "metadata": {},
   "outputs": [],
   "source": [
    "party_name = [\"maria\", \"roberto\", \"silvia\", \"yuver\", \"alberto\", \"bea\"]"
   ]
  },
  {
   "cell_type": "code",
   "execution_count": 6,
   "metadata": {},
   "outputs": [],
   "source": [
    "for p in party_name:\n",
    "    party = requests.get(f'http://localhost:3500/chat/Party/adduser/{p}').text"
   ]
  },
  {
   "cell_type": "markdown",
   "metadata": {},
   "source": [
    "Chat: Ironhack"
   ]
  },
  {
   "cell_type": "code",
   "execution_count": 47,
   "metadata": {},
   "outputs": [],
   "source": [
    "ironhackers = [\"clara\", \"felipe\", \"flori\", \"luis\", \"marc\", \"juan\"]"
   ]
  },
  {
   "cell_type": "code",
   "execution_count": 8,
   "metadata": {},
   "outputs": [],
   "source": [
    "for iron in ironhackers:\n",
    "    requests.get(f'http://localhost:3500/chat/Ironhack/adduser/{iron}').text"
   ]
  },
  {
   "cell_type": "markdown",
   "metadata": {},
   "source": [
    "Chat: Fitness"
   ]
  },
  {
   "cell_type": "code",
   "execution_count": 52,
   "metadata": {},
   "outputs": [],
   "source": [
    "fit_name = [\"miriam\", \"jose\",\"eren\", \"mikasa\", \"armin\", \"levi\"]"
   ]
  },
  {
   "cell_type": "code",
   "execution_count": 10,
   "metadata": {},
   "outputs": [],
   "source": [
    "for f in fit_name:\n",
    "    requests.get(f'http://localhost:3500/chat/Fitness/adduser/{f}').text"
   ]
  },
  {
   "cell_type": "markdown",
   "metadata": {},
   "source": [
    "Chat: Cooking"
   ]
  },
  {
   "cell_type": "code",
   "execution_count": 57,
   "metadata": {},
   "outputs": [],
   "source": [
    "cook_name = [\"crista\", \"conny\", \"sasha\", \"hanji\", \"irvin\", \"hannes\"]"
   ]
  },
  {
   "cell_type": "code",
   "execution_count": 12,
   "metadata": {},
   "outputs": [],
   "source": [
    "for c in cook_name:\n",
    "    requests.get(f'http://localhost:3500/chat/Cooking/adduser/{c}').text"
   ]
  },
  {
   "cell_type": "markdown",
   "metadata": {},
   "source": [
    "All users were addedd to a chat!"
   ]
  },
  {
   "cell_type": "markdown",
   "metadata": {},
   "source": [
    "## Add a message to a chat"
   ]
  },
  {
   "cell_type": "markdown",
   "metadata": {},
   "source": [
    "Chat: TVShows"
   ]
  },
  {
   "cell_type": "code",
   "execution_count": 40,
   "metadata": {},
   "outputs": [],
   "source": [
    "m_tv = [\"Can someone please recommend me a good serie?\", \"The best one is black mirror on Netflix.\",\n",
    "    \"The original series of Netflix are terrible. Try HBO.\", \"Netflix is great. They just added Community, you should watch it.\",\n",
    "    \"Community is so lame! Don't watch it.\", \"The anime section on Netflix is awesome, in case you like anime.\"]"
   ]
  },
  {
   "cell_type": "code",
   "execution_count": 41,
   "metadata": {},
   "outputs": [],
   "source": [
    "result_tv = zip(tv_name, m_tv)\n",
    "\n",
    "user_message_tv = set(result_tv)"
   ]
  },
  {
   "cell_type": "code",
   "execution_count": 42,
   "metadata": {},
   "outputs": [],
   "source": [
    "for u, m in user_message_tv:\n",
    "    requests.get(f'http://localhost:3500/chat/TVShows/user/{u}/addmessage/{m}')"
   ]
  },
  {
   "cell_type": "markdown",
   "metadata": {},
   "source": [
    "Chat: Party"
   ]
  },
  {
   "cell_type": "code",
   "execution_count": 44,
   "metadata": {},
   "outputs": [],
   "source": [
    "m_party = [\"Hey, guys any plans for the weekend?\", \"I want to go out for drinks. We can go to Salmon guru?\", \n",
    "          \"No, this bar is horrible. Too expensive and bad service.\", \"Like all the bar nowadays. You spend 15€ for a shit drink.\",\n",
    "          \"I'm going to stay at home. Netflix and chill\", \"Me too. I'm sick of going out.\"]"
   ]
  },
  {
   "cell_type": "code",
   "execution_count": 45,
   "metadata": {},
   "outputs": [],
   "source": [
    "result_party = zip(party_name, m_party)\n",
    "\n",
    "user_message_party = set(result_party)"
   ]
  },
  {
   "cell_type": "code",
   "execution_count": 46,
   "metadata": {},
   "outputs": [],
   "source": [
    "for u, m in user_message_party:\n",
    "    requests.get(f'http://localhost:3500/chat/Party/user/{u}/addmessage/{m}')"
   ]
  },
  {
   "cell_type": "markdown",
   "metadata": {},
   "source": [
    "Chat: Ironhack"
   ]
  },
  {
   "cell_type": "code",
   "execution_count": 48,
   "metadata": {},
   "outputs": [],
   "source": [
    "m_iron = [\"Hey buddies, how is the project?\", \"I'm super happy with mine.\", \"I'm very proud of what I've done too.\",\n",
    "         \"I still need to finish. I've been watching community on Netflix the whole day.\", \"We should go out for drinks to celebrate.\",\n",
    "         \"I can't drink. I'm preparing for the marathon.\"]"
   ]
  },
  {
   "cell_type": "code",
   "execution_count": 49,
   "metadata": {},
   "outputs": [],
   "source": [
    "result_iron = zip(ironhackers, m_iron)\n",
    "\n",
    "user_message_iron = set(result_iron)"
   ]
  },
  {
   "cell_type": "code",
   "execution_count": 50,
   "metadata": {},
   "outputs": [],
   "source": [
    "for u, m in user_message_iron:\n",
    "    requests.get(f'http://localhost:3500/chat/Ironhack/user/{u}/addmessage/{m}')"
   ]
  },
  {
   "cell_type": "markdown",
   "metadata": {},
   "source": [
    "Chat: Fitness"
   ]
  },
  {
   "cell_type": "code",
   "execution_count": 54,
   "metadata": {},
   "outputs": [],
   "source": [
    "m_fit = [\"Are you guys ready for the marathon?\", \"I'm running everyday.\", \"I'm super excited! I can't wait for it.\",\n",
    "        \"I've been watching netflix instead.\", \"I've been cooking some protein recipes.\", \"I need to learn how to cook more fitness.\"]"
   ]
  },
  {
   "cell_type": "code",
   "execution_count": 55,
   "metadata": {},
   "outputs": [],
   "source": [
    "result_fit = zip(fit_name, m_fit)\n",
    "\n",
    "user_message_fit = set(result_fit)"
   ]
  },
  {
   "cell_type": "code",
   "execution_count": 56,
   "metadata": {},
   "outputs": [],
   "source": [
    "for u, m in user_message_fit:\n",
    "    requests.get(f'http://localhost:3500/chat/Fitness/user/{u}/addmessage/{m}')"
   ]
  },
  {
   "cell_type": "markdown",
   "metadata": {},
   "source": [
    "Chat: Cooking"
   ]
  },
  {
   "cell_type": "code",
   "execution_count": 58,
   "metadata": {},
   "outputs": [],
   "source": [
    "m_cook = [\"Hi all! I just learned a new protein recipe.\", \"I hate protein recipes.\", \"They are disgusting.\",\n",
    "         \"I don't see the point to cook fitnees recipes. They all taste bad.\", \"I've try to cook a gluten free cake once and was gross.\",\n",
    "         \"I dislike all lowcarbs recipes.\"]"
   ]
  },
  {
   "cell_type": "code",
   "execution_count": 59,
   "metadata": {},
   "outputs": [],
   "source": [
    "result_cook = zip(cook_name, m_cook)\n",
    "\n",
    "user_message_cook = set(result_cook)"
   ]
  },
  {
   "cell_type": "code",
   "execution_count": 60,
   "metadata": {},
   "outputs": [],
   "source": [
    "for u, m in user_message_cook:\n",
    "    requests.get(f'http://localhost:3500/chat/Cooking/user/{u}/addmessage/{m}')"
   ]
  },
  {
   "cell_type": "markdown",
   "metadata": {},
   "source": [
    "# Sentiment Analysis"
   ]
  },
  {
   "cell_type": "markdown",
   "metadata": {},
   "source": [
    "## Get all messages from a chat"
   ]
  },
  {
   "cell_type": "markdown",
   "metadata": {},
   "source": [
    "Chat: TVShows"
   ]
  },
  {
   "cell_type": "code",
   "execution_count": 77,
   "metadata": {},
   "outputs": [],
   "source": [
    "all_messages_tv = requests.get(f'http://localhost:3500/chat/TVShows/list').json()"
   ]
  },
  {
   "cell_type": "code",
   "execution_count": 78,
   "metadata": {},
   "outputs": [
    {
     "data": {
      "text/plain": [
       "[{'quote': 'Attack on titan is the best serie from netflix.'},\n",
       " {'quote': 'Can someone please recommend me a good serie'},\n",
       " {'quote': 'The best one is black mirror on Netflix.'},\n",
       " {'quote': 'The original series of Netflix are terrible. Try HBO.'},\n",
       " {'quote': 'Netflix is great. They just added Community, you should watch it.'},\n",
       " {'quote': \"Community is so lame! Don't watch it.\"},\n",
       " {'quote': 'The anime section on Netflix is awesome, in case you like anime.'}]"
      ]
     },
     "execution_count": 78,
     "metadata": {},
     "output_type": "execute_result"
    }
   ],
   "source": [
    "all_messages_tv"
   ]
  },
  {
   "cell_type": "markdown",
   "metadata": {},
   "source": [
    "Chat: Party"
   ]
  },
  {
   "cell_type": "code",
   "execution_count": 79,
   "metadata": {},
   "outputs": [],
   "source": [
    "all_messages_party = requests.get(f'http://localhost:3500/chat/Party/list').json()"
   ]
  },
  {
   "cell_type": "code",
   "execution_count": 80,
   "metadata": {},
   "outputs": [
    {
     "data": {
      "text/plain": [
       "[{'quote': 'Hey, guys any plans for the weekend'},\n",
       " {'quote': 'I want to go out for drinks. We can go to Salmon guru'},\n",
       " {'quote': 'No, this bar is horrible. Too expensive and bad service.'},\n",
       " {'quote': 'Like all the bar nowadays. You spend 15€ for a shit drink.'},\n",
       " {'quote': \"I'm going to stay at home. Netflix and chill\"},\n",
       " {'quote': \"Me too. I'm sick of going out.\"},\n",
       " {}]"
      ]
     },
     "execution_count": 80,
     "metadata": {},
     "output_type": "execute_result"
    }
   ],
   "source": [
    "all_messages_party"
   ]
  },
  {
   "cell_type": "markdown",
   "metadata": {},
   "source": [
    "Chat: Ironhack"
   ]
  },
  {
   "cell_type": "code",
   "execution_count": 81,
   "metadata": {},
   "outputs": [],
   "source": [
    "all_messages_iron = requests.get(f'http://localhost:3500/chat/Ironhack/list').json()"
   ]
  },
  {
   "cell_type": "code",
   "execution_count": 82,
   "metadata": {},
   "outputs": [
    {
     "data": {
      "text/plain": [
       "[{'quote': 'Hey buddies, how is the project'},\n",
       " {'quote': \"I'm super happy with mine.\"},\n",
       " {'quote': \"I'm very proud of what I've done too.\"},\n",
       " {'quote': \"I still need to finish. I've been watching community on Netflix the whole day.\"},\n",
       " {'quote': 'We should go out for drinks to celebrate.'},\n",
       " {'quote': \"I can't drink. I'm preparing for the marathon.\"},\n",
       " {}]"
      ]
     },
     "execution_count": 82,
     "metadata": {},
     "output_type": "execute_result"
    }
   ],
   "source": [
    "all_messages_iron"
   ]
  },
  {
   "cell_type": "markdown",
   "metadata": {},
   "source": [
    "Chat: Fitness"
   ]
  },
  {
   "cell_type": "code",
   "execution_count": 83,
   "metadata": {},
   "outputs": [],
   "source": [
    "all_messages_fit = requests.get(f'http://localhost:3500/chat/Fitness/list').json()"
   ]
  },
  {
   "cell_type": "code",
   "execution_count": 84,
   "metadata": {},
   "outputs": [
    {
     "data": {
      "text/plain": [
       "[{'quote': 'Are you guys ready for the marathon'},\n",
       " {'quote': \"I'm running everyday.\"},\n",
       " {'quote': \"I'm super excited! I can't wait for it.\"},\n",
       " {'quote': \"I've been watching netflix instead.\"},\n",
       " {'quote': \"I've been cooking some protein recipes.\"},\n",
       " {'quote': 'I need to learn how to cook more fitness.'},\n",
       " {}]"
      ]
     },
     "execution_count": 84,
     "metadata": {},
     "output_type": "execute_result"
    }
   ],
   "source": [
    "all_messages_fit"
   ]
  },
  {
   "cell_type": "markdown",
   "metadata": {},
   "source": [
    "Chat: Cooking"
   ]
  },
  {
   "cell_type": "code",
   "execution_count": 85,
   "metadata": {},
   "outputs": [],
   "source": [
    "all_messages_cook = requests.get(f'http://localhost:3500/chat/Cooking/list').json()"
   ]
  },
  {
   "cell_type": "code",
   "execution_count": 89,
   "metadata": {},
   "outputs": [
    {
     "data": {
      "text/plain": [
       "[{'quote': 'Hi all! I just learned a new protein recipe.'},\n",
       " {'quote': 'I hate protein recipes.'},\n",
       " {'quote': 'They are disgusting.'},\n",
       " {'quote': \"I don't see the point to cook fitnees recipes. They all taste bad.\"},\n",
       " {'quote': \"I've try to cook a gluten free cake once and was gross.\"},\n",
       " {'quote': 'I dislike all lowcarbs recipes.'},\n",
       " {}]"
      ]
     },
     "execution_count": 89,
     "metadata": {},
     "output_type": "execute_result"
    }
   ],
   "source": [
    "all_messages_cook"
   ]
  },
  {
   "cell_type": "markdown",
   "metadata": {},
   "source": [
    "## Analyze sentiment of messages from a chat"
   ]
  },
  {
   "cell_type": "markdown",
   "metadata": {},
   "source": [
    "Chat: TVShows"
   ]
  },
  {
   "cell_type": "code",
   "execution_count": 131,
   "metadata": {},
   "outputs": [],
   "source": [
    "sent_tv = requests.get(f'http://localhost:3500/chat/TVShows/sentiment').json()"
   ]
  },
  {
   "cell_type": "code",
   "execution_count": 132,
   "metadata": {},
   "outputs": [
    {
     "data": {
      "text/plain": [
       "{'Resume': 'Mostly positive',\n",
       " 'Score': {'compound': 0.9616, 'neg': 0.101, 'neu': 0.597, 'pos': 0.302}}"
      ]
     },
     "execution_count": 132,
     "metadata": {},
     "output_type": "execute_result"
    }
   ],
   "source": [
    "sent_tv"
   ]
  },
  {
   "cell_type": "markdown",
   "metadata": {},
   "source": [
    "Chat: Party"
   ]
  },
  {
   "cell_type": "code",
   "execution_count": 133,
   "metadata": {},
   "outputs": [],
   "source": [
    "sent_party = requests.get(f'http://localhost:3500/chat/Party/sentiment').json()"
   ]
  },
  {
   "cell_type": "code",
   "execution_count": 134,
   "metadata": {},
   "outputs": [
    {
     "data": {
      "text/plain": [
       "{'Resume': 'Mostly negative',\n",
       " 'Score': {'compound': -0.9022, 'neg': 0.184, 'neu': 0.766, 'pos': 0.05}}"
      ]
     },
     "execution_count": 134,
     "metadata": {},
     "output_type": "execute_result"
    }
   ],
   "source": [
    "sent_party "
   ]
  },
  {
   "cell_type": "markdown",
   "metadata": {},
   "source": [
    "Chat: Ironhack"
   ]
  },
  {
   "cell_type": "code",
   "execution_count": 135,
   "metadata": {},
   "outputs": [],
   "source": [
    "sent_iron = requests.get(f'http://localhost:3500/chat/Ironhack/sentiment').json()"
   ]
  },
  {
   "cell_type": "code",
   "execution_count": 136,
   "metadata": {},
   "outputs": [
    {
     "data": {
      "text/plain": [
       "{'Resume': 'Mostly positive',\n",
       " 'Score': {'compound': 0.8999, 'neg': 0.0, 'neu': 0.828, 'pos': 0.172}}"
      ]
     },
     "execution_count": 136,
     "metadata": {},
     "output_type": "execute_result"
    }
   ],
   "source": [
    "sent_iron"
   ]
  },
  {
   "cell_type": "markdown",
   "metadata": {},
   "source": [
    "Chat: Fitness"
   ]
  },
  {
   "cell_type": "code",
   "execution_count": 137,
   "metadata": {},
   "outputs": [],
   "source": [
    "sent_fit = requests.get(f'http://localhost:3500/chat/Fitness/sentiment').json()"
   ]
  },
  {
   "cell_type": "code",
   "execution_count": 138,
   "metadata": {},
   "outputs": [
    {
     "data": {
      "text/plain": [
       "{'Resume': 'Mostly positive',\n",
       " 'Score': {'compound': 0.8439, 'neg': 0.0, 'neu': 0.818, 'pos': 0.182}}"
      ]
     },
     "execution_count": 138,
     "metadata": {},
     "output_type": "execute_result"
    }
   ],
   "source": [
    "sent_fit"
   ]
  },
  {
   "cell_type": "markdown",
   "metadata": {},
   "source": [
    "Chat: Cooking"
   ]
  },
  {
   "cell_type": "code",
   "execution_count": 139,
   "metadata": {},
   "outputs": [],
   "source": [
    "sent_cook = requests.get(f'http://localhost:3500/chat/Cooking/sentiment').json()"
   ]
  },
  {
   "cell_type": "code",
   "execution_count": 140,
   "metadata": {},
   "outputs": [
    {
     "data": {
      "text/plain": [
       "{'Resume': 'Mostly negative',\n",
       " 'Score': {'compound': -0.5093, 'neg': 0.116, 'neu': 0.826, 'pos': 0.058}}"
      ]
     },
     "execution_count": 140,
     "metadata": {},
     "output_type": "execute_result"
    }
   ],
   "source": [
    "sent_cook"
   ]
  },
  {
   "cell_type": "markdown",
   "metadata": {},
   "source": [
    "# Recomment a chat to a user based on sentiment"
   ]
  },
  {
   "cell_type": "code",
   "execution_count": null,
   "metadata": {},
   "outputs": [],
   "source": []
  },
  {
   "cell_type": "code",
   "execution_count": null,
   "metadata": {},
   "outputs": [],
   "source": []
  },
  {
   "cell_type": "code",
   "execution_count": null,
   "metadata": {},
   "outputs": [],
   "source": []
  },
  {
   "cell_type": "code",
   "execution_count": null,
   "metadata": {},
   "outputs": [],
   "source": []
  },
  {
   "cell_type": "code",
   "execution_count": null,
   "metadata": {},
   "outputs": [],
   "source": []
  },
  {
   "cell_type": "code",
   "execution_count": null,
   "metadata": {},
   "outputs": [],
   "source": []
  },
  {
   "cell_type": "code",
   "execution_count": null,
   "metadata": {},
   "outputs": [],
   "source": []
  },
  {
   "cell_type": "code",
   "execution_count": null,
   "metadata": {},
   "outputs": [],
   "source": []
  }
 ],
 "metadata": {
  "kernelspec": {
   "display_name": "Python 3",
   "language": "python",
   "name": "python3"
  },
  "language_info": {
   "codemirror_mode": {
    "name": "ipython",
    "version": 3
   },
   "file_extension": ".py",
   "mimetype": "text/x-python",
   "name": "python",
   "nbconvert_exporter": "python",
   "pygments_lexer": "ipython3",
   "version": "3.7.5"
  }
 },
 "nbformat": 4,
 "nbformat_minor": 4
}
